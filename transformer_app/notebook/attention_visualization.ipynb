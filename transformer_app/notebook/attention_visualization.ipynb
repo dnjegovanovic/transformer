{
 "cells": [],
 "metadata": {
  "kernelspec": {
   "display_name": "Python 3.9.13 ('pytorch_113_gpu')",
   "language": "python",
   "name": "python3"
  },
  "language_info": {
   "codemirror_mode": {
    "name": "ipython",
    "version": 3
   },
   "file_extension": ".py",
   "mimetype": "text/x-python",
   "name": "python",
   "nbconvert_exporter": "python",
   "pygments_lexer": "ipython3",
   "version": "3.9.13"
  },
  "orig_nbformat": 4,
  "vscode": {
   "interpreter": {
    "hash": "418ddc00673675793dc5b636b2b189fd95ed189e6d0facbf2c55eedc0486d0d0"
   }
  }
 },
 "nbformat": 4,
 "nbformat_minor": 2
}
